{
  "nbformat": 4,
  "nbformat_minor": 0,
  "metadata": {
    "colab": {
      "provenance": [],
      "mount_file_id": "1_r9V6cs9k8zojhG2DJc6v9JJqF8Nt5Ep",
      "authorship_tag": "ABX9TyPnjgiXCxX3oXQJFhkvIfQW",
      "include_colab_link": true
    },
    "kernelspec": {
      "name": "python3",
      "display_name": "Python 3"
    },
    "language_info": {
      "name": "python"
    }
  },
  "cells": [
    {
      "cell_type": "markdown",
      "metadata": {
        "id": "view-in-github",
        "colab_type": "text"
      },
      "source": [
        "<a href=\"https://colab.research.google.com/github/xIIBushido/platzi/blob/main/CursoPythonFundamentals_py.ipynb\" target=\"_parent\"><img src=\"https://colab.research.google.com/assets/colab-badge.svg\" alt=\"Open In Colab\"/></a>"
      ]
    },
    {
      "cell_type": "markdown",
      "source": [
        "# Introduccion al curso de python"
      ],
      "metadata": {
        "id": "a30oq1hIWpw-"
      }
    },
    {
      "cell_type": "code",
      "execution_count": null,
      "metadata": {
        "colab": {
          "base_uri": "https://localhost:8080/"
        },
        "id": "UjOGfH6kTy9g",
        "outputId": "bb3660d6-9d0d-4f91-e11c-3c6cefbb8bac"
      },
      "outputs": [
        {
          "output_type": "stream",
          "name": "stdout",
          "text": [
            "Hola, esto es python\n",
            "Hola soy Sebastian y tengo 24 años\n",
            "24\n",
            "28\n",
            "6\n",
            "4.0\n",
            "5.0\n",
            "0\n",
            "3.3333333333333335\n",
            "1\n",
            "8\n"
          ]
        }
      ],
      "source": [
        "print(\"Hola, esto es python\")\n",
        "print(\"Hola soy Sebastian y tengo 24 años\")\n",
        "\n",
        "print(12 + 12)\n",
        "print(40 -12)\n",
        "print(2 * 3)\n",
        "print(12 / 3)\n",
        "\n",
        "print(10 / 2)\n",
        "print(10 % 2)\n",
        "print(10 / 3)\n",
        "print(10 % 3)\n",
        "\n",
        "print(2 ** 3)\n",
        "\n",
        "# Comment one line"
      ]
    },
    {
      "cell_type": "markdown",
      "source": [
        "## Variables\n"
      ],
      "metadata": {
        "id": "DNrAzbd9V3e3"
      }
    },
    {
      "cell_type": "code",
      "source": [
        "#Esto es una variable\n",
        "my_name=\"Sebastian\"\n",
        "print(my_name)\n",
        "#Recursividad de la variable my_name intercambiando su valor\n",
        "my_name=\"Santiago\"\n",
        "print(\"Aqui hice recursividad sobre la variable my_name intercambiandola por:\",my_name)"
      ],
      "metadata": {
        "colab": {
          "base_uri": "https://localhost:8080/"
        },
        "id": "BU2Jt4RtWCTt",
        "outputId": "fb211279-b069-477b-8570-1e88034a978e"
      },
      "execution_count": null,
      "outputs": [
        {
          "output_type": "stream",
          "name": "stdout",
          "text": [
            "Sebastian\n",
            "Aqui hice recursividad sobre la variable my_name intercambiandola por: Santiago\n"
          ]
        }
      ]
    },
    {
      "cell_type": "code",
      "source": [
        "#Esto es una variable con un numero\n",
        "my_age=24\n",
        "print(my_age)"
      ],
      "metadata": {
        "colab": {
          "base_uri": "https://localhost:8080/"
        },
        "id": "6unFIg3jWcZu",
        "outputId": "e68a4f76-d59c-4045-f8b3-cd6706810014"
      },
      "execution_count": null,
      "outputs": [
        {
          "output_type": "stream",
          "name": "stdout",
          "text": [
            "24\n"
          ]
        }
      ]
    },
    {
      "cell_type": "code",
      "source": [
        "#Input\n",
        "my_name = input(\"¿Cuál es tu nombre?\\n\")\n",
        "print(\"Al usar la funcion input deja ingresar un valor a la variable my_name, asignandole el valor:\",my_name)"
      ],
      "metadata": {
        "colab": {
          "base_uri": "https://localhost:8080/"
        },
        "id": "UMNF19DmXGil",
        "outputId": "64e88de5-45ed-4635-a7aa-bb71684bee14"
      },
      "execution_count": null,
      "outputs": [
        {
          "output_type": "stream",
          "name": "stdout",
          "text": [
            "¿Cuál es tu nombre?\n",
            "Sebastian\n",
            "Al usar la funcion input deja ingresar un valor a la variable my_name, asignandole el valor: Sebastian\n"
          ]
        }
      ]
    },
    {
      "cell_type": "markdown",
      "source": [
        "## Tipos de datos\n",
        "### Tipos de datos primitivos\n",
        "1.  Integers: números Enteros\n",
        "2.  Floats: números de punto flotante (decimales)\n",
        "3.  Strings: cadena de caracteres (texto)\n",
        "4.  Boolean: boolenaos (Verdadero o Falso)\n",
        "\n",
        "### Tipos de dato adicionales\n",
        "1. Datos en texto: str\n",
        "2. Datos numéricos: int, float, complex\n",
        "3. Datos en secuencia: list, tuple, range\n",
        "4. Datos de mapeo: dict\n",
        "5. Set Types: set, frozenset\n",
        "6. Datos booleanos: bool\n",
        "7. Datos binarios: bytes, bytearray, memoryview"
      ],
      "metadata": {
        "id": "GdoOOMgwX3RU"
      }
    },
    {
      "cell_type": "code",
      "source": [
        "#string: cadenas de texto\n",
        "my_name='Nicolas'\n",
        "my_name=\"Santiago\"\n",
        "print('my_name =>',my_name)\n",
        "#Imprime el tipo de dato que es la variable en el codigo con la funcion type\n",
        "print(type(my_name))"
      ],
      "metadata": {
        "colab": {
          "base_uri": "https://localhost:8080/"
        },
        "id": "vzdPTXYnX5oc",
        "outputId": "97656d42-8e80-4942-f119-c2ba0cd8def4"
      },
      "execution_count": null,
      "outputs": [
        {
          "output_type": "stream",
          "name": "stdout",
          "text": [
            "my_name => Santiago\n",
            "<class 'str'>\n"
          ]
        }
      ]
    },
    {
      "cell_type": "code",
      "source": [
        "#int: son numeros enteros\n",
        "my_age = 24\n",
        "print('Este es el valor que tengo en la variable my_age:',my_age)\n",
        "print(type(my_age))"
      ],
      "metadata": {
        "colab": {
          "base_uri": "https://localhost:8080/"
        },
        "id": "2zSVQFaDYc08",
        "outputId": "b4dcbe25-8d3c-479f-b1e7-f69e08283e15"
      },
      "execution_count": null,
      "outputs": [
        {
          "output_type": "stream",
          "name": "stdout",
          "text": [
            "Este es el valor que tengo en la variable my_age: 24\n",
            "<class 'int'>\n"
          ]
        }
      ]
    },
    {
      "cell_type": "code",
      "source": [
        "#boolean: almacenan dos datos, True o False\n",
        "is_single = True\n",
        "print('is_single:',is_single)\n",
        "print(type(is_single))"
      ],
      "metadata": {
        "colab": {
          "base_uri": "https://localhost:8080/"
        },
        "id": "B-PbtKsKY3Zc",
        "outputId": "2d6a6f51-e90c-4cd3-9185-1632172a2997"
      },
      "execution_count": null,
      "outputs": [
        {
          "output_type": "stream",
          "name": "stdout",
          "text": [
            "is_single: True\n",
            "<class 'bool'>\n"
          ]
        }
      ]
    },
    {
      "cell_type": "code",
      "source": [
        "#inputs: ingreso por teclado\n",
        "my_age = input('¿Cuál es tu edad?\\n')\n",
        "print('Este es el valor que tengo en la variable my_age:',my_age)\n",
        "print(type(my_age))"
      ],
      "metadata": {
        "colab": {
          "base_uri": "https://localhost:8080/"
        },
        "id": "z-H6Qoz7ZqCD",
        "outputId": "e5b46788-74f8-4458-adc2-baa6d4e92837"
      },
      "execution_count": null,
      "outputs": [
        {
          "output_type": "stream",
          "name": "stdout",
          "text": [
            "¿Cuál es tu edad?\n",
            "24\n",
            "Este es el valor que tengo en la variable my_age: 24\n",
            "<class 'str'>\n"
          ]
        }
      ]
    },
    {
      "cell_type": "code",
      "source": [
        "#Ejercicio de numeros y cadenas\n",
        "my_name='Nicolas'\n",
        "my_name=\"Santiago\"\n",
        "#Si se conserva con las dobles comillas el programa va a seguir tomando el valor como un string\n",
        "my_name=\"0\"\n",
        "print('my_name =>',my_name)\n",
        "#Imprime el tipo de dato que es la variable en el codigo con la funcion type\n",
        "print(type(my_name))"
      ],
      "metadata": {
        "colab": {
          "base_uri": "https://localhost:8080/"
        },
        "id": "ZelwhleDZ8Tj",
        "outputId": "4a5f0864-1967-4609-b8e4-81985d753d95"
      },
      "execution_count": null,
      "outputs": [
        {
          "output_type": "stream",
          "name": "stdout",
          "text": [
            "my_name => 0\n",
            "<class 'str'>\n"
          ]
        }
      ]
    },
    {
      "cell_type": "markdown",
      "source": [
        "##Strings"
      ],
      "metadata": {
        "id": "BRGCWSsyagaq"
      }
    },
    {
      "cell_type": "code",
      "source": [
        "name = 'Sebastian'\n",
        "lastname = 'Castiblanco'\n",
        "age = 24\n",
        "print(name)\n",
        "print(lastname)\n",
        "\n",
        "fullname = name +' '+ lastname\n",
        "print(fullname)\n",
        "\n",
        "quote = \"I'm Sebastian\"\n",
        "print(quote)\n",
        "\n",
        "quote2 = 'She Said \"Hello\"'\n",
        "print (quote2)\n",
        "\n",
        "#Formateo de cadenas\n",
        "template = \"Hola, mi nombre es \" + name + ' y mi apellido es ' + lastname\n",
        "print(template)\n",
        "\n",
        "template = \"Hola, mi nombre es {} y mi apellido es {}\".format(name, lastname)\n",
        "print(template)\n",
        "\n",
        "template1 = f'Hola, mi nombre es {name} y mi apellido es {lastname}'\n",
        "print(template1)\n",
        "\n",
        "template = template1 + f' y tengo {age} años de edad'\n",
        "print(template)\n"
      ],
      "metadata": {
        "colab": {
          "base_uri": "https://localhost:8080/"
        },
        "id": "xQjSnlZFaiep",
        "outputId": "6301ffe1-361f-47e6-cd25-a1af01ce813d"
      },
      "execution_count": null,
      "outputs": [
        {
          "output_type": "stream",
          "name": "stdout",
          "text": [
            "Sebastian\n",
            "Castiblanco\n",
            "Sebastian Castiblanco\n",
            "I'm Sebastian\n",
            "She Said \"Hello\"\n",
            "Hola, mi nombre es Sebastian y mi apellido es Castiblanco\n",
            "Hola, mi nombre es Sebastian y mi apellido es Castiblanco\n",
            "Hola, mi nombre es Sebastian y mi apellido es Castiblanco\n",
            "Hola, mi nombre es Sebastian y mi apellido es Castiblanco y tengo 24 años de edad\n"
          ]
        }
      ]
    },
    {
      "cell_type": "markdown",
      "source": [
        "##Numbers"
      ],
      "metadata": {
        "id": "WL4_mO46borp"
      }
    },
    {
      "cell_type": "code",
      "source": [
        "#Se pasa las variables de cadenas a enteras.\n",
        "prom_ene = int(input('Ingrese el promedio de Enero\\n'))\n",
        "prom_feb = int(input('Ingrese el promedio de Febrero\\n'))\n",
        "prom_mar = int(input('Ingrese el promedio de Marzo\\n'))\n",
        "\n",
        "prom_total = (prom_ene + prom_feb + prom_mar)/3\n",
        "\n",
        "print('El promedio total es: ',prom_total)"
      ],
      "metadata": {
        "colab": {
          "base_uri": "https://localhost:8080/"
        },
        "id": "YmmHsr49brNZ",
        "outputId": "8dc38cfa-3352-4c5b-80b4-b154c6a2d46c"
      },
      "execution_count": null,
      "outputs": [
        {
          "output_type": "stream",
          "name": "stdout",
          "text": [
            "Ingrese el promedio de Enero\n",
            "12\n",
            "Ingrese el promedio de Febrero\n",
            "12\n",
            "Ingrese el promedio de Marzo\n",
            "12\n",
            "El promedio total es:  12.0\n"
          ]
        }
      ]
    },
    {
      "cell_type": "markdown",
      "source": [
        "##Booleans"
      ],
      "metadata": {
        "id": "XNu3o_kEeARf"
      }
    },
    {
      "cell_type": "code",
      "source": [
        "is_single = True\n",
        "print(type(is_single))\n",
        "is_single = False\n",
        "print(is_single)\n",
        "\n",
        "print(not True)\n",
        "print(not False)\n",
        "\n",
        "is_single = not is_single\n",
        "print(is_single)"
      ],
      "metadata": {
        "colab": {
          "base_uri": "https://localhost:8080/"
        },
        "id": "v9klP79eeCj3",
        "outputId": "76b8492f-f599-47d8-b84c-471c7ca12cf6"
      },
      "execution_count": null,
      "outputs": [
        {
          "output_type": "stream",
          "name": "stdout",
          "text": [
            "<class 'bool'>\n",
            "False\n",
            "False\n",
            "True\n",
            "True\n"
          ]
        }
      ]
    },
    {
      "cell_type": "markdown",
      "source": [
        "##Transformaciones de tipos de datos"
      ],
      "metadata": {
        "id": "GXbNRntiR54Q"
      }
    },
    {
      "cell_type": "code",
      "source": [
        "name = \"Sebastian\"\n",
        "print(type(name))\n",
        "name = 12\n",
        "print(type(name))\n",
        "name = True\n",
        "print(type(name))\n",
        "\n",
        "print(\"Sebastian\" + \" Castiblanco\")\n",
        "print(10 + 20)\n",
        "print(\"Sebastian\" + \"12\")\n",
        "\n",
        "age = 24\n",
        "print(\"Mi edad es \" + str(age))\n",
        "print(f\"Mi edad es {age}\")\n",
        "\n",
        "age = input('Escribe tu edad => \\n')\n",
        "print(type(age))\n",
        "age = int(age)\n",
        "age += 10\n",
        "print(f'Tu edad en 10 años sera {age}')"
      ],
      "metadata": {
        "colab": {
          "base_uri": "https://localhost:8080/"
        },
        "id": "a91ZgPnrSB_C",
        "outputId": "6feff15e-5326-4256-bd8a-40f6ed9e4ceb"
      },
      "execution_count": null,
      "outputs": [
        {
          "output_type": "stream",
          "name": "stdout",
          "text": [
            "<class 'str'>\n",
            "<class 'int'>\n",
            "<class 'bool'>\n",
            "Sebastian Castiblanco\n",
            "30\n",
            "Sebastian12\n",
            "Mi edad es 24\n",
            "Mi edad es 24\n",
            "Escribe tu edad => \n",
            "24\n",
            "<class 'str'>\n",
            "Tu edad en 10 años sera 34\n"
          ]
        }
      ]
    },
    {
      "cell_type": "code",
      "source": [
        "#Ejercicio de formato\n",
        "name = 'Sebastian'\n",
        "print(name)\n",
        "age = '24'\n",
        "print(age)\n",
        "total = 24 + 10\n",
        "\n",
        "template = f\"Hola mi nombre es {name}, tengo {age} años y en 10 años tendré {total} años\"\n",
        "print(template)"
      ],
      "metadata": {
        "colab": {
          "base_uri": "https://localhost:8080/"
        },
        "id": "CBVZwPkZTLg4",
        "outputId": "707b4a19-98f9-4762-ad15-a02673e110e9"
      },
      "execution_count": null,
      "outputs": [
        {
          "output_type": "stream",
          "name": "stdout",
          "text": [
            "Sebastian\n",
            "24\n",
            "Hola mi nombre es Sebastian, tengo 24 años y en 10 años tendré 34 años\n"
          ]
        }
      ]
    },
    {
      "cell_type": "markdown",
      "source": [
        "##Operadores Aritmeticos"
      ],
      "metadata": {
        "id": "L7YCfRE-W3om"
      }
    },
    {
      "cell_type": "code",
      "source": [
        "#Suma\n",
        "print(10 + 10)\n",
        "#Resta\n",
        "print(10 - 5)\n",
        "#Multiplicación\n",
        "print(10 * 2)\n",
        "#Divición\n",
        "print(10 / 2) # 5\n",
        "#Modulo\n",
        "print(10 % 2) # 0\n",
        "#Divide y redondea\n",
        "print(10 // 3)\n",
        "#Potencia\n",
        "print(2 ** 3)\n",
        "#Ejercicios combinando operaciones aritmeticas\n",
        "print(2 ** 3 + 3 - 7 / 1 // 4)\n",
        "print((7 / 1) // 4)\n",
        "print(8 + 3 - 1)\n",
        "#Concatenación\n",
        "print('Hola' + ' mundo')\n",
        "#Clonación de cadenas\n",
        "print('Hola' * 3)"
      ],
      "metadata": {
        "colab": {
          "base_uri": "https://localhost:8080/"
        },
        "id": "4r_ViEvxW5k8",
        "outputId": "426167fe-9ecf-4533-f0da-051f4c278572"
      },
      "execution_count": null,
      "outputs": [
        {
          "output_type": "stream",
          "name": "stdout",
          "text": [
            "20\n",
            "5\n",
            "20\n",
            "5.0\n",
            "0\n",
            "3\n",
            "8\n",
            "10.0\n",
            "1.0\n",
            "10\n",
            "Hola mundo\n",
            "HolaHolaHola\n"
          ]
        }
      ]
    },
    {
      "cell_type": "markdown",
      "source": [
        "###Prioridad operaciones aritmeticas.\n",
        "1.  P-parentesis\n",
        "2.  E-exponentes\n",
        "3.  M-multiplicación\n",
        "4.  D-división\n",
        "5.  A-adición\n",
        "6.  S-sustracción"
      ],
      "metadata": {
        "id": "y66MWKkpeQE4"
      }
    },
    {
      "cell_type": "markdown",
      "source": [
        "##Operadores de comparación.\n",
        "\n",
        "1.  a>b\n",
        "2.  a<b\n",
        "3.  a==b\n",
        "4.  a>=b\n",
        "5.  a<=b\n",
        "6.  a!=b"
      ],
      "metadata": {
        "id": "t8WLyGaEfBA9"
      }
    },
    {
      "cell_type": "code",
      "source": [
        "# >\n",
        "print(7 > 3)\n",
        "print(3 > 7)\n",
        "print(7 > 7)\n",
        "\n",
        "# <\n",
        "print(5 < 6)\n",
        "print(6 < 5)\n",
        "print(5 < 5)\n",
        "\n",
        "# >=\n",
        "print(2 >= 1)\n",
        "print(2 >= 3)\n",
        "print(2 >= 2)\n",
        "\n",
        "# <=\n",
        "print(1 <= 2)\n",
        "print(2 <= 1)\n",
        "print(2 <= 2)\n",
        "\n",
        "# ==\n",
        "\n",
        "print(6 == 6)\n",
        "print(5 == 2)\n",
        "\n",
        "# !=\n",
        "\n",
        "print(6 != 10)\n",
        "print(6 != 6)\n",
        "\n",
        "print(\"Apple\" == 'Apple')\n",
        "print(\"Apple\" == 'apple')\n",
        "print(\"1\" == 1)\n",
        "\n",
        "age = 15\n",
        "print(age >= 18)"
      ],
      "metadata": {
        "colab": {
          "base_uri": "https://localhost:8080/"
        },
        "id": "gSx004BXesLW",
        "outputId": "6225996c-8862-42ac-b3d7-186b80eb2338"
      },
      "execution_count": null,
      "outputs": [
        {
          "output_type": "stream",
          "name": "stdout",
          "text": [
            "True\n",
            "False\n",
            "False\n",
            "True\n",
            "False\n",
            "False\n",
            "True\n",
            "False\n",
            "True\n",
            "True\n",
            "False\n",
            "True\n",
            "True\n",
            "False\n",
            "True\n",
            "False\n",
            "True\n",
            "False\n",
            "False\n",
            "False\n"
          ]
        }
      ]
    },
    {
      "cell_type": "markdown",
      "source": [
        "##Comparación de numeros flotantes"
      ],
      "metadata": {
        "id": "-2bZrgRjl3a2"
      }
    },
    {
      "cell_type": "code",
      "source": [
        "x = 3.3\n",
        "print(x)\n",
        "y = 1.1 + 2.2\n",
        "print(y)\n",
        "print(x == y)\n",
        "\n",
        "#Formateador\n",
        "y_str = format(y, \".2g\")\n",
        "print('str =>', y_str)\n",
        "print(y_str == str(x))\n",
        "\n",
        "print('*' * 10)\n",
        "\n",
        "print(y, x)\n",
        "\n",
        "tolerance = 0.00001\n",
        "print(abs(x - y) < tolerance)"
      ],
      "metadata": {
        "colab": {
          "base_uri": "https://localhost:8080/"
        },
        "id": "yvpQG0Bxl8yp",
        "outputId": "5bc0c039-c403-4542-bbc2-ce603057ab03"
      },
      "execution_count": null,
      "outputs": [
        {
          "output_type": "stream",
          "name": "stdout",
          "text": [
            "3.3\n",
            "3.3000000000000003\n",
            "False\n",
            "str => 3.3\n",
            "True\n",
            "**********\n",
            "3.3000000000000003 3.3\n",
            "True\n"
          ]
        }
      ]
    },
    {
      "cell_type": "markdown",
      "source": [
        "##Operadores lógicos: and y or"
      ],
      "metadata": {
        "id": "2EbVGon_U3cY"
      }
    },
    {
      "cell_type": "code",
      "source": [
        "# and\n",
        "print('AND')\n",
        "print('True and True =>', True and True)\n",
        "print('True and False =>', True and False)\n",
        "print('False and True =>', False and True)\n",
        "print('False and False =>', False and False)\n",
        "\n",
        "print(10 > 5 and 5 < 10)\n",
        "print(10 > 5 and 5 > 10)\n",
        "\n",
        "stock = input('Ingrese el numero de stock => \\n')\n",
        "stock = int(stock)\n",
        "\n",
        "print(stock >= 100 and stock <= 1000)\n",
        "\n",
        "print('OR')\n",
        "print('True or True =>', True or True)\n",
        "print('True or False =>', True or False)\n",
        "print('False or True =>', False or True)\n",
        "print('False or False =>', False or False)\n",
        "\n",
        "role = input('Digita el rol => \\n')\n",
        "\n",
        "print(role == 'admin' or role == 'seller')"
      ],
      "metadata": {
        "colab": {
          "base_uri": "https://localhost:8080/"
        },
        "id": "EqazKH2gU6eP",
        "outputId": "90b8f855-71fc-4a66-8000-b1e2c0ee77b1"
      },
      "execution_count": null,
      "outputs": [
        {
          "output_type": "stream",
          "name": "stdout",
          "text": [
            "AND\n",
            "True and True => True\n",
            "True and False => False\n",
            "False and True => False\n",
            "False and False => False\n",
            "True\n",
            "False\n",
            "Ingrese el numero de stock => \n",
            "101\n",
            "True\n",
            "OR\n",
            "True or True => True\n",
            "True or False => True\n",
            "False or True => True\n",
            "False or False => False\n",
            "Digita el rol => \n",
            "seller\n",
            "True\n"
          ]
        }
      ]
    },
    {
      "cell_type": "markdown",
      "source": [
        "##Operador lógico not"
      ],
      "metadata": {
        "id": "S62slaldVo8u"
      }
    },
    {
      "cell_type": "code",
      "source": [
        "print(not True)\n",
        "print(not False)\n",
        "\n",
        "# and\n",
        "print('NOT AND')\n",
        "print('not True and True =>', not (True and True))\n",
        "print('not True and False =>', not (True and False))\n",
        "print('not False and True =>', not (False and True))\n",
        "print('not False and False =>', not (False and False))\n",
        "\n",
        "stock = input('Ingrese el numero de stock => \\n')\n",
        "stock = int(stock)\n",
        "\n",
        "print(not (stock >= 100 and stock <= 1000))"
      ],
      "metadata": {
        "colab": {
          "base_uri": "https://localhost:8080/"
        },
        "id": "cG4v57wPV3GU",
        "outputId": "d55dc5d0-b142-454c-f433-32ff2b225491"
      },
      "execution_count": null,
      "outputs": [
        {
          "output_type": "stream",
          "name": "stdout",
          "text": [
            "False\n",
            "True\n",
            "NOT AND\n",
            "not True and True => False\n",
            "not True and False => True\n",
            "not False and True => True\n",
            "not False and False => True\n",
            "Ingrese el numero de stock => \n",
            "101\n",
            "False\n"
          ]
        }
      ]
    },
    {
      "cell_type": "markdown",
      "source": [
        "##Condicionales"
      ],
      "metadata": {
        "id": "QJSRPuzXWCEx"
      }
    },
    {
      "cell_type": "code",
      "source": [
        "if True:\n",
        "  print('deberí­a ejecutarse')\n",
        "\n",
        "if False:\n",
        "  print('nunca se ejecuta')\n",
        "\n",
        "'''\n",
        "pet = input('¿Cuál es tu mascota favorita? ')\n",
        "\n",
        "if pet == 'perro':\n",
        "  print('genial tienes buen gusto')\n",
        "elif pet == 'gato':\n",
        "  print('espero tengas suerte')\n",
        "elif pet == 'pez':\n",
        "  print('eres lo maximo')\n",
        "else:\n",
        "  print('no tienes ninguna mascota interesante')\n",
        "\n",
        "\n",
        "stock = int(input('Digita el stock => \\n'))\n",
        "\n",
        "if stock >= 100 and stock <= 1000:\n",
        "  print('el stock es correcto')\n",
        "else:\n",
        "  print('el stock es incorrecto')\n",
        "\n",
        "'''\n",
        "\n",
        "number = int(input('Ingrese un numero => \\n'))\n",
        "result = number % 2\n",
        "if (result == 0):\n",
        "\tprint('Es par')\n",
        "else:\n",
        "\tprint('Es impar')"
      ],
      "metadata": {
        "colab": {
          "base_uri": "https://localhost:8080/"
        },
        "id": "V9r9BkerWEM8",
        "outputId": "0f996edc-1218-439b-8d76-66a043ba851a"
      },
      "execution_count": null,
      "outputs": [
        {
          "output_type": "stream",
          "name": "stdout",
          "text": [
            "deberí­a ejecutarse\n",
            "Ingrese un numero => \n",
            "99\n",
            "Es impar\n"
          ]
        }
      ]
    },
    {
      "cell_type": "markdown",
      "source": [
        "##Strings recargado\n"
      ],
      "metadata": {
        "id": "MkqOTmWMavtJ"
      }
    },
    {
      "cell_type": "code",
      "source": [
        "text = 'Ella sabe programar en Python'\n",
        "\n",
        "'''\n",
        "#Comprueba que la palabra JavaScript este dentro del valor almacenado en la variable text\n",
        "print('JavaScript' in text)\n",
        "#Comprueba que la palabra Python este dentro del valor almacenado en la variable text\n",
        "print('Python' in text)\n",
        "\n",
        "if 'JS' in text:\n",
        "  print('Elegiste bien!!')\n",
        "else:\n",
        "  print('Tambien elegiste bien')\n",
        "\n",
        "'''\n",
        "#Devuelve el numero de caracteres de una cadena de texto\n",
        "size = len(text)\n",
        "print(size)\n",
        "\n",
        "#Imprime el texto\n",
        "print(text)\n",
        "#Coloca en mayusculas el texto\n",
        "print(text.upper())\n",
        "#Coloca en minusculas el texto\n",
        "print(text.lower())\n",
        "#Cuenta cuantas letras (a) tiene la oración\n",
        "print(text.count('a'))\n",
        "#Transforma las letras minusculas a mayusculas y biceversa\n",
        "print(text.swapcase())\n",
        "#Valida que el valor almacenado en la variable text comienza con cierta palabra\n",
        "print(text.startswith('Ella'))\n",
        "#Valida que el valor almacenado en la variable text termina con cierta palabra\n",
        "print(text.endswith('Rust'))\n",
        "#Busca y reemplaza cierta palabra por otra\n",
        "print(text.replace('Python', 'Go'))\n",
        "\n",
        "text_2 = 'este es un titulo'\n",
        "print(text_2)\n",
        "#Coloca la primera letra en mayuscula\n",
        "print(text_2.capitalize())\n",
        "#Coloca el inicio de cada una de las palabras con la primeta letra en mayuscula\n",
        "print(text_2.title())\n",
        "#Evalua si el texto es un digito\n",
        "print(text_2.isdigit())\n",
        "#Evalua si el texto es un digito\n",
        "print(\"398\".isdigit())"
      ],
      "metadata": {
        "colab": {
          "base_uri": "https://localhost:8080/"
        },
        "id": "4voYUIsqazh5",
        "outputId": "e337793e-9f01-4a47-bf73-ef007cbbc65b"
      },
      "execution_count": null,
      "outputs": [
        {
          "output_type": "stream",
          "name": "stdout",
          "text": [
            "29\n",
            "Ella sabe programar en Python\n",
            "ELLA SABE PROGRAMAR EN PYTHON\n",
            "ella sabe programar en python\n",
            "4\n",
            "eLLA SABE PROGRAMAR EN pYTHON\n",
            "True\n",
            "False\n",
            "Ella sabe programar en Go\n",
            "este es un titulo\n",
            "Este es un titulo\n",
            "Este Es Un Titulo\n",
            "False\n",
            "True\n"
          ]
        }
      ]
    },
    {
      "cell_type": "markdown",
      "source": [
        "##Indexing y slicing"
      ],
      "metadata": {
        "id": "4RrfoeV1cyhH"
      }
    },
    {
      "cell_type": "code",
      "source": [
        "text = \"Ella sabe Python\"\n",
        "print(text[0])\n",
        "print(text[1])\n",
        "# print(text[999])\n",
        "size = len(text)\n",
        "print('size => ',size)\n",
        "print(text[size - 1])\n",
        "print(text[-1])\n",
        "\n",
        "# slicing\n",
        "\n",
        "print(text[0:5])\n",
        "print(text[10:16])\n",
        "print(text[:10])\n",
        "print(text[5:-1])\n",
        "print(text[5:])\n",
        "print(text[:])\n",
        "print(text[10:16:1])\n",
        "print(text[10:16:2])\n",
        "print(text[::2])"
      ],
      "metadata": {
        "colab": {
          "base_uri": "https://localhost:8080/"
        },
        "id": "HhIxQJEKc01I",
        "outputId": "fd03dbb1-bef3-46e1-fc9d-eeb3e4b6e8a8"
      },
      "execution_count": null,
      "outputs": [
        {
          "output_type": "stream",
          "name": "stdout",
          "text": [
            "E\n",
            "l\n",
            "size =>  16\n",
            "n\n",
            "n\n",
            "Ella \n",
            "Python\n",
            "Ella sabe \n",
            "sabe Pytho\n",
            "sabe Python\n",
            "Ella sabe Python\n",
            "Python\n",
            "Pto\n",
            "El aePto\n"
          ]
        }
      ]
    },
    {
      "cell_type": "markdown",
      "source": [
        "##Listas"
      ],
      "metadata": {
        "id": "98ne7nMPgD62"
      }
    },
    {
      "cell_type": "code",
      "source": [
        "numbers = [1, 2, 3, 4]\n",
        "print(numbers)\n",
        "print(type(numbers))\n",
        "\n",
        "tasks = ['make a dishes', 'play videogames']\n",
        "print(tasks)\n",
        "\n",
        "types = [1, True, 'hola']\n",
        "print(types)\n",
        "\n",
        "print(numbers[0])\n",
        "print(tasks[0])\n",
        "text = 'Hola'\n",
        "# text[0] = 'W'\n",
        "\n",
        "tasks[0] = 'watch platzi courses'\n",
        "print(tasks)\n",
        "\n",
        "tasks[0] = 'do the dishes'\n",
        "print(tasks)\n",
        "\n",
        "print(numbers[:3])\n",
        "print(True in types)\n",
        "print('hola' in types)"
      ],
      "metadata": {
        "colab": {
          "base_uri": "https://localhost:8080/"
        },
        "id": "qS5Qy_IkgFEc",
        "outputId": "f7afeac3-43be-4afa-bb8b-bd4f19cbb3d8"
      },
      "execution_count": null,
      "outputs": [
        {
          "output_type": "stream",
          "name": "stdout",
          "text": [
            "[1, 2, 3, 4]\n",
            "<class 'list'>\n",
            "['make a dishes', 'play videogames']\n",
            "[1, True, 'hola']\n",
            "1\n",
            "make a dishes\n",
            "['watch platzi courses', 'play videogames']\n",
            "['do the dishes', 'play videogames']\n",
            "[1, 2, 3]\n",
            "True\n",
            "True\n"
          ]
        }
      ]
    },
    {
      "cell_type": "markdown",
      "source": [
        "##Metodos de listas"
      ],
      "metadata": {
        "id": "xmatOxo6hEsz"
      }
    },
    {
      "cell_type": "code",
      "source": [
        "# CRUD Create, Read, Update & Delete\n",
        "\n",
        "numbers = [1, 2 , 3 , 4 , 5]\n",
        "print(numbers[1])\n",
        "numbers[-1] = 10\n",
        "print(numbers)\n",
        "\n",
        "numbers.append(700)\n",
        "print(numbers)\n",
        "\n",
        "numbers.insert(0, 'hola')\n",
        "print(numbers)\n",
        "\n",
        "numbers.insert(3, 'change')\n",
        "print(numbers)\n",
        "\n",
        "tasks = ['todo 1', 'todo 2', 'todo 3']\n",
        "new_list = numbers + tasks\n",
        "print(new_list)\n",
        "\n",
        "#Devuelve la posición donde se encuentra el elemento buscado\n",
        "index = new_list.index('todo 2')\n",
        "new_list[index] = 'todo changed'\n",
        "print(new_list)\n",
        "\n",
        "new_list.remove('todo 1')\n",
        "print(new_list)\n",
        "\n",
        "#Elimina el ultimo elemento de la lista\n",
        "new_list.pop()\n",
        "print(new_list)\n",
        "#Elimina una posición en la lista\n",
        "new_list.pop(0)\n",
        "print(new_list)\n",
        "#Voltea toda la lista de posiciones\n",
        "new_list.reverse()\n",
        "print(new_list)\n",
        "\n",
        "numbers_a = [1, 4, 6 , 3]\n",
        "#Ordena los numeros\n",
        "numbers_a.sort()\n",
        "print(numbers_a)\n",
        "\n",
        "strings = ['re', 'ab', 'ed']\n",
        "#Ordena las palabras\n",
        "strings.sort()\n",
        "print(strings)\n",
        "\n",
        "#Si la lista tiene tipos de datos mezclados no puede ordenas\n",
        "#new_list.sort()"
      ],
      "metadata": {
        "colab": {
          "base_uri": "https://localhost:8080/"
        },
        "id": "JayGXHa2hHCM",
        "outputId": "91413f95-f0b0-4e27-b10b-e18929a3e09f"
      },
      "execution_count": null,
      "outputs": [
        {
          "output_type": "stream",
          "name": "stdout",
          "text": [
            "2\n",
            "[1, 2, 3, 4, 10]\n",
            "[1, 2, 3, 4, 10, 700]\n",
            "['hola', 1, 2, 3, 4, 10, 700]\n",
            "['hola', 1, 2, 'change', 3, 4, 10, 700]\n",
            "['hola', 1, 2, 'change', 3, 4, 10, 700, 'todo 1', 'todo 2', 'todo 3']\n",
            "['hola', 1, 2, 'change', 3, 4, 10, 700, 'todo 1', 'todo changed', 'todo 3']\n",
            "['hola', 1, 2, 'change', 3, 4, 10, 700, 'todo changed', 'todo 3']\n",
            "['hola', 1, 2, 'change', 3, 4, 10, 700, 'todo changed']\n",
            "[1, 2, 'change', 3, 4, 10, 700, 'todo changed']\n",
            "['todo changed', 700, 10, 4, 3, 'change', 2, 1]\n",
            "[1, 3, 4, 6]\n",
            "['ab', 'ed', 're']\n"
          ]
        }
      ]
    },
    {
      "cell_type": "markdown",
      "source": [
        "##Tuplas"
      ],
      "metadata": {
        "id": "_zUiFvo0kIdg"
      }
    },
    {
      "cell_type": "code",
      "source": [
        "numbers = (1, 2, 3, 5)\n",
        "strings = ('nico', 'zule', 'santi', 'nico')\n",
        "print(numbers)\n",
        "print('0 =>', numbers[0])\n",
        "print('-1 =>', numbers[-1])\n",
        "print(type(numbers))\n",
        "\n",
        "print(strings)\n",
        "print(type(strings))\n",
        "\n",
        "# CRUD\n",
        "# numbers.append(10)\n",
        "print(numbers)\n",
        "# numbers[1] = 'change'\n",
        "\n",
        "print(strings)\n",
        "#Devuelve la posición donde se encuentra el elemento buscado\n",
        "print(strings.index('zule'))\n",
        "#Cuenta cuantas veces se encuentra un elemento en una tupla\n",
        "print(strings.count('nico'))\n",
        "\n",
        "#Transforma de tupla a lista\n",
        "my_list = list(strings)\n",
        "print(my_list)\n",
        "print(type(my_list))\n",
        "\n",
        "my_list[1] = 'juli'\n",
        "print(my_list)\n",
        "\n",
        "#Transformar de lista a tupla\n",
        "my_tuple = tuple(my_list)\n",
        "print(my_tuple)"
      ],
      "metadata": {
        "colab": {
          "base_uri": "https://localhost:8080/"
        },
        "id": "AE3-EmDbkJ_i",
        "outputId": "225c5837-c1af-475e-881a-7e484834d5dc"
      },
      "execution_count": null,
      "outputs": [
        {
          "output_type": "stream",
          "name": "stdout",
          "text": [
            "(1, 2, 3, 5)\n",
            "0 => 1\n",
            "-1 => 5\n",
            "<class 'tuple'>\n",
            "('nico', 'zule', 'santi', 'nico')\n",
            "<class 'tuple'>\n",
            "(1, 2, 3, 5)\n",
            "('nico', 'zule', 'santi', 'nico')\n",
            "1\n",
            "2\n",
            "['nico', 'zule', 'santi', 'nico']\n",
            "<class 'list'>\n",
            "['nico', 'juli', 'santi', 'nico']\n",
            "('nico', 'juli', 'santi', 'nico')\n"
          ]
        }
      ]
    },
    {
      "cell_type": "markdown",
      "source": [
        "En Python, tanto las listas como las tuplas son tipos de datos que se utilizan para almacenar colecciones de elementos. Sin embargo, existen algunas diferencias clave entre ellas:\n",
        "\n",
        "###Mutabilidad:\n",
        "1.  Listas: Las listas son mutables, lo que significa que se pueden modificar después de su creación. Puedes agregar, eliminar o modificar elementos en una lista.\n",
        "2.  Tuplas: Las tuplas son inmutables, lo que significa que no se pueden modificar una vez que se crean. No puedes agregar, eliminar o cambiar elementos en una tupla después de su creación.\n",
        "\n",
        "Ejemplo de lista:\n",
        "```\n",
        "mi_lista = [1, 2, 3]\n",
        "mi_lista.append(4)  # Válido, se agrega el elemento 4 a la lista\n",
        "mi_lista[0] = 5     # Válido, se cambia el primer elemento de la lista a 5\n",
        "```\n",
        "\n",
        "Ejemplo de tupla:\n",
        "```\n",
        "mi_tupla = (1, 2, 3)\n",
        "mi_tupla.append(4)   # Inválido, las tuplas no tienen el método append\n",
        "mi_tupla[0] = 5      # Inválido, las tuplas no permiten la asignación de elementos\n",
        "```\n",
        "\n",
        "###Sintaxis:\n",
        "\n",
        "1.  Listas: Se definen usando corchetes [ ].\n",
        "2.  Tuplas: Se definen usando paréntesis ( ).\n",
        "\n",
        "Ejemplo:\n",
        "```\n",
        "mi_lista = [1, 2, 3]\n",
        "mi_tupla = (1, 2, 3)\n",
        "```\n",
        "###Rendimiento:\n",
        "Debido a que las tuplas son inmutables, tienden a ser ligeramente más rápidas en términos de rendimiento y ocupan menos memoria que las listas. Si tienes una colección de elementos que no necesitas modificar, usar una tupla puede ser más eficiente.\n",
        "\n",
        "###Uso:\n",
        "Las listas se utilizan para almacenar colecciones de elementos que pueden cambiar o necesitar modificaciones durante la ejecución del programa.\n",
        "Las tuplas se usan generalmente para almacenar colecciones de elementos que no cambiarán durante la ejecución del programa, como coordenadas geográficas, valores constantes, etc.\n",
        "\n",
        "En resumen, si necesitas una colección mutable de elementos, utiliza una lista. Si necesitas una colección inmutable de elementos, utiliza una tupla. La elección entre listas y tuplas dependerá de las necesidades específicas de tu programa."
      ],
      "metadata": {
        "id": "ub_xLY260O5r"
      }
    },
    {
      "cell_type": "markdown",
      "source": [
        "##Diccionarios"
      ],
      "metadata": {
        "id": "O-C3R3f5zqtc"
      }
    },
    {
      "cell_type": "code",
      "source": [
        "my_dict = {}\n",
        "print(type(my_dict))\n",
        "\n",
        "my_dict = {\n",
        "  'avion': \"bla bla bla\",\n",
        "  'name': 'Sebastian',\n",
        "  'last_name': 'Castiblanco',\n",
        "  'age': 24\n",
        "}\n",
        "\n",
        "print(my_dict)\n",
        "#Tamaño del diccionario\n",
        "print(len(my_dict))\n",
        "\n",
        "print(my_dict['age'])\n",
        "print(my_dict['last_name'])\n",
        "print(my_dict.get('age'))\n",
        "\n",
        "print('avion' in my_dict)\n",
        "print('otroqueno' in my_dict)"
      ],
      "metadata": {
        "colab": {
          "base_uri": "https://localhost:8080/"
        },
        "id": "j4CiXFtWzsBr",
        "outputId": "34e8c6bc-3fb7-4ead-fc61-ed8b487f1196"
      },
      "execution_count": null,
      "outputs": [
        {
          "output_type": "stream",
          "name": "stdout",
          "text": [
            "<class 'dict'>\n",
            "{'avion': 'bla bla bla', 'name': 'Sebastian', 'last_name': 'Castiblanco', 'age': 24}\n",
            "4\n",
            "24\n",
            "Castiblanco\n",
            "24\n",
            "True\n",
            "False\n"
          ]
        }
      ]
    },
    {
      "cell_type": "markdown",
      "source": [
        "##Diccionarios: inserción y actualización"
      ],
      "metadata": {
        "id": "nNuiV-ck1HeB"
      }
    },
    {
      "cell_type": "code",
      "source": [
        "person = {\n",
        "  'name': 'Sebastian',\n",
        "  'last_name': 'Castiblanco',\n",
        "  'langs': ['python', 'javascript'],\n",
        "  'age': 24\n",
        "}\n",
        "\n",
        "print(person)\n",
        "\n",
        "person['name'] = 'santi'\n",
        "person['age'] += 20\n",
        "person['langs'].append('rust')\n",
        "print(person)\n",
        "\n",
        "del person['last_name']\n",
        "person.pop('age')\n",
        "\n",
        "print(person)\n",
        "\n",
        "\n",
        "print('items')\n",
        "print(person.items())\n",
        "\n",
        "print('keys')\n",
        "print(person.keys())\n",
        "\n",
        "print('values')\n",
        "print(person.values())\n",
        "\n",
        "person['twitter'] = '@nicobytes'\n",
        "print(person)\n",
        "person['name'] = 'Felipe'\n",
        "print(person)\n",
        "print(list(person.keys()))\n",
        "print(list(person.values()))"
      ],
      "metadata": {
        "colab": {
          "base_uri": "https://localhost:8080/"
        },
        "id": "MZpNmmZ91LZh",
        "outputId": "2f0eae1c-1af4-4d0c-d95a-6d2f25b3aa35"
      },
      "execution_count": null,
      "outputs": [
        {
          "output_type": "stream",
          "name": "stdout",
          "text": [
            "{'name': 'Sebastian', 'last_name': 'Castiblanco', 'langs': ['python', 'javascript'], 'age': 24}\n",
            "{'name': 'santi', 'last_name': 'Castiblanco', 'langs': ['python', 'javascript', 'rust'], 'age': 44}\n",
            "{'name': 'santi', 'langs': ['python', 'javascript', 'rust']}\n",
            "items\n",
            "dict_items([('name', 'santi'), ('langs', ['python', 'javascript', 'rust'])])\n",
            "keys\n",
            "dict_keys(['name', 'langs'])\n",
            "values\n",
            "dict_values(['santi', ['python', 'javascript', 'rust']])\n",
            "{'name': 'santi', 'langs': ['python', 'javascript', 'rust'], 'twitter': '@nicobytes'}\n",
            "{'name': 'Felipe', 'langs': ['python', 'javascript', 'rust'], 'twitter': '@nicobytes'}\n",
            "['name', 'langs', 'twitter']\n",
            "['Felipe', ['python', 'javascript', 'rust'], '@nicobytes']\n"
          ]
        }
      ]
    },
    {
      "cell_type": "markdown",
      "source": [
        "##Loops: While"
      ],
      "metadata": {
        "id": "SXVib7Mm3VVx"
      }
    },
    {
      "cell_type": "code",
      "source": [
        "'''\n",
        "while True:\n",
        "  print('se ejecuto')\n",
        "'''\n",
        "'''\n",
        "counter = 0\n",
        "while counter < 10:\n",
        "  counter += 1\n",
        "  print(counter)\n",
        "'''\n",
        "'''\n",
        "counter = 0\n",
        "while counter < 20:\n",
        "  counter += 1\n",
        "  if counter == 15:\n",
        "    break\n",
        "  print(counter)\n",
        "'''\n",
        "\n",
        "counter = 0\n",
        "while counter < 20:\n",
        "  counter += 1\n",
        "  if counter < 15:\n",
        "    #Vuelve al principio del while hasta que salga de la condición\n",
        "    continue\n",
        "  print(counter)\n"
      ],
      "metadata": {
        "colab": {
          "base_uri": "https://localhost:8080/"
        },
        "id": "UiNUzx5r3b3o",
        "outputId": "1c4ec6f9-1808-407e-b286-b34715be3651"
      },
      "execution_count": null,
      "outputs": [
        {
          "output_type": "stream",
          "name": "stdout",
          "text": [
            "15\n",
            "16\n",
            "17\n",
            "18\n",
            "19\n",
            "20\n"
          ]
        }
      ]
    },
    {
      "cell_type": "markdown",
      "source": [
        "##Loops: For"
      ],
      "metadata": {
        "id": "hM4u9IzJ5LVv"
      }
    },
    {
      "cell_type": "code",
      "source": [
        "'''\n",
        "for element in range(1, 21):\n",
        "  print(element)\n",
        "\n",
        "'''\n",
        "\n",
        "my_list = [23, 45, 67, 89 ,43]\n",
        "for element in my_list:\n",
        "  print(element)\n",
        "\n",
        "my_tuple = ('nico', 'juli', 'santi')\n",
        "for element in my_tuple:\n",
        "  print(element)\n",
        "\n",
        "\n",
        "product = {\n",
        "  'name': 'Camisa',\n",
        "  'price': 100,\n",
        "  'stock': 89\n",
        "}\n",
        "\n",
        "for key in product:\n",
        "  print(key, '=>', product[key])\n",
        "\n",
        "for key, value in product.items():\n",
        "  print(key, '=>', value)\n",
        "\n",
        "people = [\n",
        "  {\n",
        "    'name': 'nico',\n",
        "    'age': 34\n",
        "  },\n",
        "  {\n",
        "    'name': 'zule',\n",
        "    'age': 45\n",
        "  },\n",
        "  {\n",
        "    'name': 'santi',\n",
        "    'age': 4\n",
        "  }\n",
        "]\n",
        "\n",
        "for person in people:\n",
        "  print('name =>', person['name'])\n",
        "\n",
        "#Insertar en new_list los numeros positivos de my_list\n",
        "my_list = [1, -1, 2, -2, 3, -3, 4, -4]\n",
        "new_list = []\n",
        "\n",
        "# Escribe tu solución 👇\n",
        "for element in my_list:\n",
        "  if element >= 0:\n",
        "    new_list.append(element)\n",
        "print(new_list)"
      ],
      "metadata": {
        "colab": {
          "base_uri": "https://localhost:8080/"
        },
        "id": "PqShIB1A5Nhe",
        "outputId": "447d9a54-d164-4ed9-c4de-1d0ec7ef5fb7"
      },
      "execution_count": null,
      "outputs": [
        {
          "output_type": "stream",
          "name": "stdout",
          "text": [
            "23\n",
            "45\n",
            "67\n",
            "89\n",
            "43\n",
            "nico\n",
            "juli\n",
            "santi\n",
            "name => Camisa\n",
            "price => 100\n",
            "stock => 89\n",
            "name => Camisa\n",
            "price => 100\n",
            "stock => 89\n",
            "name => nico\n",
            "name => zule\n",
            "name => santi\n",
            "[1, 2, 3, 4]\n"
          ]
        }
      ]
    },
    {
      "cell_type": "markdown",
      "source": [
        "##Ciclos anidados"
      ],
      "metadata": {
        "id": "C5qmIkmd7nDs"
      }
    },
    {
      "cell_type": "code",
      "source": [
        "matriz = [\n",
        "  [1,2,3],\n",
        "  [4,5,6],\n",
        "  [7,8,9]\n",
        "]\n",
        "print(matriz[0][1])\n",
        "\n",
        "for row in matriz:\n",
        "  print(row)\n",
        "  for column in row:\n",
        "    print(column)"
      ],
      "metadata": {
        "colab": {
          "base_uri": "https://localhost:8080/"
        },
        "id": "4T7azOwX7pen",
        "outputId": "7030d76e-857e-4e2f-ff99-37a8a4d1f1c6"
      },
      "execution_count": null,
      "outputs": [
        {
          "output_type": "stream",
          "name": "stdout",
          "text": [
            "2\n",
            "[1, 2, 3]\n",
            "1\n",
            "2\n",
            "3\n",
            "[4, 5, 6]\n",
            "4\n",
            "5\n",
            "6\n",
            "[7, 8, 9]\n",
            "7\n",
            "8\n",
            "9\n"
          ]
        }
      ]
    },
    {
      "cell_type": "markdown",
      "source": [
        "#Proyecto Juego Piedra, Papel o Tijera"
      ],
      "metadata": {
        "id": "FL9CD09uWYh2"
      }
    },
    {
      "cell_type": "code",
      "source": [
        "import random\n",
        "\n",
        "options = ('piedra', 'papel', 'tijera')\n",
        "rounds = 1\n",
        "computer_wins = 0\n",
        "user_wins = 0\n",
        "\n",
        "print(\"\"\"\n",
        "      [ 🤖 Bienvenido al juego Piedra, Papel o tijera 🙋]\n",
        "                  >>> Ingresa una opción <<<\n",
        "      \"\"\")\n",
        "\n",
        "while True:\n",
        "    print('***' * 10)\n",
        "    print('Round ', rounds)\n",
        "    print('***' * 10)\n",
        "\n",
        "    print(f'''\n",
        "🤖 Computer wins: {computer_wins}\n",
        "🙋 User wins: {user_wins}\n",
        "          ''')\n",
        "\n",
        "    user_option = input('>>> Piedra, papel o tijera => ').lower()\n",
        "    rounds += 1\n",
        "\n",
        "    if not user_option in options:\n",
        "        print('Esa opción no es valida')\n",
        "\n",
        "    computer_option = random.choice(options)\n",
        "\n",
        "    print('User option => ', user_option)\n",
        "    print('Computer option => ', computer_option)\n",
        "\n",
        "    if user_option == computer_option:\n",
        "        print('Empate!\\n')\n",
        "    elif user_option == 'piedra':\n",
        "        if computer_option == 'tijera':\n",
        "            print('🪨 Piedra gana a tijera ✂️')\n",
        "            print('¡User gana!\\n')\n",
        "            user_wins += 1\n",
        "        else:\n",
        "            print('📄 Papel gana a piedra 🪨')\n",
        "            print('¡Computer gana!\\n')\n",
        "            computer_wins += 1\n",
        "    elif user_option == 'papel':\n",
        "        if computer_option == 'piedra':\n",
        "            print('📄 Papel gana a piedra 🪨')\n",
        "            print('¡User gana!\\n')\n",
        "            user_wins += 1\n",
        "        else:\n",
        "            print('✂️ Tijera gana a papel 📄')\n",
        "            print('¡Computer gana!\\n')\n",
        "            computer_wins += 1\n",
        "    elif user_option == 'tijera':\n",
        "        if computer_option == 'papel':\n",
        "            print('✂️ Tijera gana a papel 📄')\n",
        "            print('¡User gana!\\n')\n",
        "            user_wins += 1\n",
        "        else:\n",
        "            print('🪨 Piedra gana a tijera ✂️')\n",
        "            print('¡Computer gana!\\n')\n",
        "            computer_wins += 1\n",
        "\n",
        "    if computer_wins == 3:\n",
        "        print('🎖️ El ganador es Computer 🎖️')\n",
        "        break\n",
        "\n",
        "    if user_wins == 3:\n",
        "        print('🎖️ El ganador es User 🎖️')\n",
        "        break"
      ],
      "metadata": {
        "colab": {
          "base_uri": "https://localhost:8080/"
        },
        "id": "JyF52Z_UWj7l",
        "outputId": "9be371ca-9b57-43a6-c826-322709835128"
      },
      "execution_count": null,
      "outputs": [
        {
          "output_type": "stream",
          "name": "stdout",
          "text": [
            "\n",
            "      [ 🤖 Bienvenido al juego Piedra, Papel o tijera 🙋]\n",
            "                  >>> Ingresa una opción <<<\n",
            "      \n",
            "******************************\n",
            "Round  1\n",
            "******************************\n",
            "\n",
            "🤖 Computer wins: 0\n",
            "🙋 User wins: 0\n",
            "          \n",
            ">>> Piedra, papel o tijera => piedra\n",
            "User option =>  piedra\n",
            "Computer option =>  tijera\n",
            "🪨 Piedra gana a tijera ✂️\n",
            "¡User gana!\n",
            "\n",
            "******************************\n",
            "Round  2\n",
            "******************************\n",
            "\n",
            "🤖 Computer wins: 0\n",
            "🙋 User wins: 1\n",
            "          \n",
            ">>> Piedra, papel o tijera => papel\n",
            "User option =>  papel\n",
            "Computer option =>  papel\n",
            "Empate!\n",
            "\n",
            "******************************\n",
            "Round  3\n",
            "******************************\n",
            "\n",
            "🤖 Computer wins: 0\n",
            "🙋 User wins: 1\n",
            "          \n",
            ">>> Piedra, papel o tijera => papel\n",
            "User option =>  papel\n",
            "Computer option =>  papel\n",
            "Empate!\n",
            "\n",
            "******************************\n",
            "Round  4\n",
            "******************************\n",
            "\n",
            "🤖 Computer wins: 0\n",
            "🙋 User wins: 1\n",
            "          \n",
            ">>> Piedra, papel o tijera => tijera\n",
            "User option =>  tijera\n",
            "Computer option =>  papel\n",
            "✂️ Tijera gana a papel 📄\n",
            "¡User gana!\n",
            "\n",
            "******************************\n",
            "Round  5\n",
            "******************************\n",
            "\n",
            "🤖 Computer wins: 0\n",
            "🙋 User wins: 2\n",
            "          \n",
            ">>> Piedra, papel o tijera => papel\n",
            "User option =>  papel\n",
            "Computer option =>  tijera\n",
            "✂️ Tijera gana a papel 📄\n",
            "¡Computer gana!\n",
            "\n",
            "******************************\n",
            "Round  6\n",
            "******************************\n",
            "\n",
            "🤖 Computer wins: 1\n",
            "🙋 User wins: 2\n",
            "          \n",
            ">>> Piedra, papel o tijera => papel\n",
            "User option =>  papel\n",
            "Computer option =>  piedra\n",
            "📄 Papel gana a piedra 🪨\n",
            "¡User gana!\n",
            "\n",
            "🎖️ El ganador es User 🎖️\n"
          ]
        }
      ]
    },
    {
      "cell_type": "code",
      "source": [
        "city = 'NY'\n",
        "if city == 'NY':\n",
        "  print('as')"
      ],
      "metadata": {
        "colab": {
          "base_uri": "https://localhost:8080/"
        },
        "id": "GUiaerWXCksn",
        "outputId": "883e0327-5e25-4c4f-8e8b-e00396415aa0"
      },
      "execution_count": null,
      "outputs": [
        {
          "output_type": "stream",
          "name": "stdout",
          "text": [
            "as\n"
          ]
        }
      ]
    }
  ]
}